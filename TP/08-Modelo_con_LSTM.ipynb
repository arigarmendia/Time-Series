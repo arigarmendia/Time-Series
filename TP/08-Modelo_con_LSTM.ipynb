{
 "cells": [
  {
   "cell_type": "markdown",
   "metadata": {},
   "source": [
    "## Series Temporales - Trabajo Práctico\n",
    "### Alumna: Ariadna Garmendia"
   ]
  },
  {
   "cell_type": "markdown",
   "metadata": {},
   "source": [
    "### Tema: Análisis de cantidad de pasajeros que pasaron por los molinetes del subte en la Ciudad Autónoma de Buenos Aires entre 2017 y 2019."
   ]
  },
  {
   "cell_type": "markdown",
   "metadata": {},
   "source": [
    "### MODELO LA SERIE CON UNA RED NEURONAL LONG SHORT TERM MEMORY (LSTM)\n",
    "\n",
    "#### Código fuente basado en el siguiente tutorial: https://towardsdatascience.com/building-rnn-lstm-and-gru-for-time-series-using-pytorch-a46e5b094e7b"
   ]
  },
  {
   "cell_type": "code",
   "execution_count": 1,
   "metadata": {},
   "outputs": [],
   "source": [
    "import numpy as np\n",
    "import matplotlib.pyplot as plt\n",
    "import matplotlib.dates as mdates\n",
    "import pandas as pd\n",
    "from datetime import datetime, timedelta\n",
    "import seaborn as sns\n",
    "from scipy.stats import boxcox \n",
    "from statsmodels.graphics.tsaplots import plot_predict\n",
    "from statsmodels.tsa.statespace import sarimax\n",
    "from statsmodels.tsa.stattools import adfuller, acf, kpss, pacf\n",
    "from statsmodels.tsa.seasonal import seasonal_decompose\n",
    "from statsmodels.graphics.tsaplots import plot_acf, plot_pacf\n",
    "import statsmodels.api as sm\n",
    "import torch\n",
    "import torch.optim as optim\n",
    "from torch.utils.data import Dataset, DataLoader, TensorDataset\n",
    "from scripts.import_data import data\n",
    "from scripts.my_encoding import generate_cyclical_features\n",
    "from scripts.my_dataset_split import train_val_test_split\n",
    "from scripts.my_encoding import generate_cyclical_features\n",
    "from scripts.nn_model import LSTMModel\n",
    "from scripts.nn_optim import Optimization\n",
    "from sklearn.preprocessing import MinMaxScaler\n",
    "\n"
   ]
  },
  {
   "cell_type": "code",
   "execution_count": 2,
   "metadata": {},
   "outputs": [],
   "source": [
    "#Importo mi dataset\n",
    "molinetes,_,_,_= data()"
   ]
  },
  {
   "cell_type": "code",
   "execution_count": 3,
   "metadata": {},
   "outputs": [
    {
     "data": {
      "text/html": [
       "<div>\n",
       "<style scoped>\n",
       "    .dataframe tbody tr th:only-of-type {\n",
       "        vertical-align: middle;\n",
       "    }\n",
       "\n",
       "    .dataframe tbody tr th {\n",
       "        vertical-align: top;\n",
       "    }\n",
       "\n",
       "    .dataframe thead th {\n",
       "        text-align: right;\n",
       "    }\n",
       "</style>\n",
       "<table border=\"1\" class=\"dataframe\">\n",
       "  <thead>\n",
       "    <tr style=\"text-align: right;\">\n",
       "      <th></th>\n",
       "      <th>total</th>\n",
       "    </tr>\n",
       "    <tr>\n",
       "      <th>fecha</th>\n",
       "      <th></th>\n",
       "    </tr>\n",
       "  </thead>\n",
       "  <tbody>\n",
       "    <tr>\n",
       "      <th>2017-01-01</th>\n",
       "      <td>86802.0</td>\n",
       "    </tr>\n",
       "    <tr>\n",
       "      <th>2017-01-02</th>\n",
       "      <td>842897.0</td>\n",
       "    </tr>\n",
       "    <tr>\n",
       "      <th>2017-01-03</th>\n",
       "      <td>1023625.0</td>\n",
       "    </tr>\n",
       "    <tr>\n",
       "      <th>2017-01-04</th>\n",
       "      <td>512874.0</td>\n",
       "    </tr>\n",
       "    <tr>\n",
       "      <th>2017-01-05</th>\n",
       "      <td>204710.0</td>\n",
       "    </tr>\n",
       "  </tbody>\n",
       "</table>\n",
       "</div>"
      ],
      "text/plain": [
       "                total\n",
       "fecha                \n",
       "2017-01-01    86802.0\n",
       "2017-01-02   842897.0\n",
       "2017-01-03  1023625.0\n",
       "2017-01-04   512874.0\n",
       "2017-01-05   204710.0"
      ]
     },
     "execution_count": 3,
     "metadata": {},
     "output_type": "execute_result"
    }
   ],
   "source": [
    "molinetes.head()"
   ]
  },
  {
   "cell_type": "markdown",
   "metadata": {},
   "source": [
    "#### Creo el dataframe de features para entrenar la red neuronal"
   ]
  },
  {
   "cell_type": "code",
   "execution_count": 4,
   "metadata": {},
   "outputs": [],
   "source": [
    "df_features = molinetes.copy()\n",
    "df_features = df_features.reset_index()\n",
    "df_features['fecha'] = df_features['fecha'].astype('datetime64')"
   ]
  },
  {
   "cell_type": "code",
   "execution_count": 5,
   "metadata": {},
   "outputs": [],
   "source": [
    "# Extraigo features de la fecha\n",
    "df_features = (\n",
    "                df_features\n",
    "                .assign(day = df_features.fecha.dt.day)\n",
    "                .assign(month = df_features.fecha.dt.month)\n",
    "                .assign(day_of_week = df_features.fecha.dt.dayofweek) \n",
    "              )"
   ]
  },
  {
   "cell_type": "code",
   "execution_count": 6,
   "metadata": {},
   "outputs": [
    {
     "data": {
      "text/html": [
       "<div>\n",
       "<style scoped>\n",
       "    .dataframe tbody tr th:only-of-type {\n",
       "        vertical-align: middle;\n",
       "    }\n",
       "\n",
       "    .dataframe tbody tr th {\n",
       "        vertical-align: top;\n",
       "    }\n",
       "\n",
       "    .dataframe thead th {\n",
       "        text-align: right;\n",
       "    }\n",
       "</style>\n",
       "<table border=\"1\" class=\"dataframe\">\n",
       "  <thead>\n",
       "    <tr style=\"text-align: right;\">\n",
       "      <th></th>\n",
       "      <th>fecha</th>\n",
       "      <th>total</th>\n",
       "      <th>day</th>\n",
       "      <th>month</th>\n",
       "      <th>day_of_week</th>\n",
       "    </tr>\n",
       "  </thead>\n",
       "  <tbody>\n",
       "    <tr>\n",
       "      <th>0</th>\n",
       "      <td>2017-01-01</td>\n",
       "      <td>86802.0</td>\n",
       "      <td>1</td>\n",
       "      <td>1</td>\n",
       "      <td>6</td>\n",
       "    </tr>\n",
       "    <tr>\n",
       "      <th>1</th>\n",
       "      <td>2017-01-02</td>\n",
       "      <td>842897.0</td>\n",
       "      <td>2</td>\n",
       "      <td>1</td>\n",
       "      <td>0</td>\n",
       "    </tr>\n",
       "    <tr>\n",
       "      <th>2</th>\n",
       "      <td>2017-01-03</td>\n",
       "      <td>1023625.0</td>\n",
       "      <td>3</td>\n",
       "      <td>1</td>\n",
       "      <td>1</td>\n",
       "    </tr>\n",
       "    <tr>\n",
       "      <th>3</th>\n",
       "      <td>2017-01-04</td>\n",
       "      <td>512874.0</td>\n",
       "      <td>4</td>\n",
       "      <td>1</td>\n",
       "      <td>2</td>\n",
       "    </tr>\n",
       "    <tr>\n",
       "      <th>4</th>\n",
       "      <td>2017-01-05</td>\n",
       "      <td>204710.0</td>\n",
       "      <td>5</td>\n",
       "      <td>1</td>\n",
       "      <td>3</td>\n",
       "    </tr>\n",
       "  </tbody>\n",
       "</table>\n",
       "</div>"
      ],
      "text/plain": [
       "       fecha      total  day  month  day_of_week\n",
       "0 2017-01-01    86802.0    1      1            6\n",
       "1 2017-01-02   842897.0    2      1            0\n",
       "2 2017-01-03  1023625.0    3      1            1\n",
       "3 2017-01-04   512874.0    4      1            2\n",
       "4 2017-01-05   204710.0    5      1            3"
      ]
     },
     "execution_count": 6,
     "metadata": {},
     "output_type": "execute_result"
    }
   ],
   "source": [
    "# Verifico como quedaron los nuevos features\n",
    "df_features.head()"
   ]
  },
  {
   "cell_type": "markdown",
   "metadata": {},
   "source": [
    "#### Paso 1: Encoding de variables (fecha)"
   ]
  },
  {
   "cell_type": "code",
   "execution_count": 7,
   "metadata": {},
   "outputs": [],
   "source": [
    "# Hago encoding cíclico de los features day, month y day_of_week\n",
    "df_features = generate_cyclical_features(df_features, 'day', 31, 0)\n",
    "df_features = generate_cyclical_features(df_features, 'day_of_week', 7, 0)\n",
    "df_features = generate_cyclical_features(df_features, 'month', 12, 1)\n",
    "# df_features = generate_cyclical_features(df_features, 'week_of_year', 52, 0)\n"
   ]
  },
  {
   "cell_type": "code",
   "execution_count": 8,
   "metadata": {},
   "outputs": [
    {
     "data": {
      "text/html": [
       "<div>\n",
       "<style scoped>\n",
       "    .dataframe tbody tr th:only-of-type {\n",
       "        vertical-align: middle;\n",
       "    }\n",
       "\n",
       "    .dataframe tbody tr th {\n",
       "        vertical-align: top;\n",
       "    }\n",
       "\n",
       "    .dataframe thead th {\n",
       "        text-align: right;\n",
       "    }\n",
       "</style>\n",
       "<table border=\"1\" class=\"dataframe\">\n",
       "  <thead>\n",
       "    <tr style=\"text-align: right;\">\n",
       "      <th></th>\n",
       "      <th>fecha</th>\n",
       "      <th>total</th>\n",
       "      <th>sin_day</th>\n",
       "      <th>cos_day</th>\n",
       "      <th>sin_day_of_week</th>\n",
       "      <th>cos_day_of_week</th>\n",
       "      <th>sin_month</th>\n",
       "      <th>cos_month</th>\n",
       "    </tr>\n",
       "  </thead>\n",
       "  <tbody>\n",
       "    <tr>\n",
       "      <th>0</th>\n",
       "      <td>2017-01-01</td>\n",
       "      <td>86802.0</td>\n",
       "      <td>0.201299</td>\n",
       "      <td>0.979530</td>\n",
       "      <td>-0.781831</td>\n",
       "      <td>0.623490</td>\n",
       "      <td>0.0</td>\n",
       "      <td>1.0</td>\n",
       "    </tr>\n",
       "    <tr>\n",
       "      <th>1</th>\n",
       "      <td>2017-01-02</td>\n",
       "      <td>842897.0</td>\n",
       "      <td>0.394356</td>\n",
       "      <td>0.918958</td>\n",
       "      <td>0.000000</td>\n",
       "      <td>1.000000</td>\n",
       "      <td>0.0</td>\n",
       "      <td>1.0</td>\n",
       "    </tr>\n",
       "    <tr>\n",
       "      <th>2</th>\n",
       "      <td>2017-01-03</td>\n",
       "      <td>1023625.0</td>\n",
       "      <td>0.571268</td>\n",
       "      <td>0.820763</td>\n",
       "      <td>0.781831</td>\n",
       "      <td>0.623490</td>\n",
       "      <td>0.0</td>\n",
       "      <td>1.0</td>\n",
       "    </tr>\n",
       "    <tr>\n",
       "      <th>3</th>\n",
       "      <td>2017-01-04</td>\n",
       "      <td>512874.0</td>\n",
       "      <td>0.724793</td>\n",
       "      <td>0.688967</td>\n",
       "      <td>0.974928</td>\n",
       "      <td>-0.222521</td>\n",
       "      <td>0.0</td>\n",
       "      <td>1.0</td>\n",
       "    </tr>\n",
       "    <tr>\n",
       "      <th>4</th>\n",
       "      <td>2017-01-05</td>\n",
       "      <td>204710.0</td>\n",
       "      <td>0.848644</td>\n",
       "      <td>0.528964</td>\n",
       "      <td>0.433884</td>\n",
       "      <td>-0.900969</td>\n",
       "      <td>0.0</td>\n",
       "      <td>1.0</td>\n",
       "    </tr>\n",
       "  </tbody>\n",
       "</table>\n",
       "</div>"
      ],
      "text/plain": [
       "       fecha      total   sin_day   cos_day  sin_day_of_week  cos_day_of_week  \\\n",
       "0 2017-01-01    86802.0  0.201299  0.979530        -0.781831         0.623490   \n",
       "1 2017-01-02   842897.0  0.394356  0.918958         0.000000         1.000000   \n",
       "2 2017-01-03  1023625.0  0.571268  0.820763         0.781831         0.623490   \n",
       "3 2017-01-04   512874.0  0.724793  0.688967         0.974928        -0.222521   \n",
       "4 2017-01-05   204710.0  0.848644  0.528964         0.433884        -0.900969   \n",
       "\n",
       "   sin_month  cos_month  \n",
       "0        0.0        1.0  \n",
       "1        0.0        1.0  \n",
       "2        0.0        1.0  \n",
       "3        0.0        1.0  \n",
       "4        0.0        1.0  "
      ]
     },
     "execution_count": 8,
     "metadata": {},
     "output_type": "execute_result"
    }
   ],
   "source": [
    "df_features.head()"
   ]
  },
  {
   "cell_type": "code",
   "execution_count": 9,
   "metadata": {},
   "outputs": [],
   "source": [
    "# Remuevo la columna fecha\n",
    "df_features.drop(['fecha'], axis=1, inplace=True)"
   ]
  },
  {
   "cell_type": "code",
   "execution_count": 10,
   "metadata": {},
   "outputs": [
    {
     "data": {
      "text/html": [
       "<div>\n",
       "<style scoped>\n",
       "    .dataframe tbody tr th:only-of-type {\n",
       "        vertical-align: middle;\n",
       "    }\n",
       "\n",
       "    .dataframe tbody tr th {\n",
       "        vertical-align: top;\n",
       "    }\n",
       "\n",
       "    .dataframe thead th {\n",
       "        text-align: right;\n",
       "    }\n",
       "</style>\n",
       "<table border=\"1\" class=\"dataframe\">\n",
       "  <thead>\n",
       "    <tr style=\"text-align: right;\">\n",
       "      <th></th>\n",
       "      <th>total</th>\n",
       "      <th>sin_day</th>\n",
       "      <th>cos_day</th>\n",
       "      <th>sin_day_of_week</th>\n",
       "      <th>cos_day_of_week</th>\n",
       "      <th>sin_month</th>\n",
       "      <th>cos_month</th>\n",
       "    </tr>\n",
       "  </thead>\n",
       "  <tbody>\n",
       "    <tr>\n",
       "      <th>0</th>\n",
       "      <td>86802.0</td>\n",
       "      <td>0.201299</td>\n",
       "      <td>0.979530</td>\n",
       "      <td>-0.781831</td>\n",
       "      <td>0.623490</td>\n",
       "      <td>0.0</td>\n",
       "      <td>1.0</td>\n",
       "    </tr>\n",
       "    <tr>\n",
       "      <th>1</th>\n",
       "      <td>842897.0</td>\n",
       "      <td>0.394356</td>\n",
       "      <td>0.918958</td>\n",
       "      <td>0.000000</td>\n",
       "      <td>1.000000</td>\n",
       "      <td>0.0</td>\n",
       "      <td>1.0</td>\n",
       "    </tr>\n",
       "    <tr>\n",
       "      <th>2</th>\n",
       "      <td>1023625.0</td>\n",
       "      <td>0.571268</td>\n",
       "      <td>0.820763</td>\n",
       "      <td>0.781831</td>\n",
       "      <td>0.623490</td>\n",
       "      <td>0.0</td>\n",
       "      <td>1.0</td>\n",
       "    </tr>\n",
       "    <tr>\n",
       "      <th>3</th>\n",
       "      <td>512874.0</td>\n",
       "      <td>0.724793</td>\n",
       "      <td>0.688967</td>\n",
       "      <td>0.974928</td>\n",
       "      <td>-0.222521</td>\n",
       "      <td>0.0</td>\n",
       "      <td>1.0</td>\n",
       "    </tr>\n",
       "    <tr>\n",
       "      <th>4</th>\n",
       "      <td>204710.0</td>\n",
       "      <td>0.848644</td>\n",
       "      <td>0.528964</td>\n",
       "      <td>0.433884</td>\n",
       "      <td>-0.900969</td>\n",
       "      <td>0.0</td>\n",
       "      <td>1.0</td>\n",
       "    </tr>\n",
       "  </tbody>\n",
       "</table>\n",
       "</div>"
      ],
      "text/plain": [
       "       total   sin_day   cos_day  sin_day_of_week  cos_day_of_week  sin_month  \\\n",
       "0    86802.0  0.201299  0.979530        -0.781831         0.623490        0.0   \n",
       "1   842897.0  0.394356  0.918958         0.000000         1.000000        0.0   \n",
       "2  1023625.0  0.571268  0.820763         0.781831         0.623490        0.0   \n",
       "3   512874.0  0.724793  0.688967         0.974928        -0.222521        0.0   \n",
       "4   204710.0  0.848644  0.528964         0.433884        -0.900969        0.0   \n",
       "\n",
       "   cos_month  \n",
       "0        1.0  \n",
       "1        1.0  \n",
       "2        1.0  \n",
       "3        1.0  \n",
       "4        1.0  "
      ]
     },
     "execution_count": 10,
     "metadata": {},
     "output_type": "execute_result"
    }
   ],
   "source": [
    "df_features.head()"
   ]
  },
  {
   "cell_type": "markdown",
   "metadata": {},
   "source": [
    "#### Paso 2: Split del dataset en Train, Test y Validation (80/10/10)"
   ]
  },
  {
   "cell_type": "code",
   "execution_count": 11,
   "metadata": {},
   "outputs": [],
   "source": [
    "# Hago el split usando mi función (ver carpeta 'scripts')\n",
    "X_train, X_val, X_test, y_train, y_val, y_test = train_val_test_split(df_features, 'total', 0.1)"
   ]
  },
  {
   "cell_type": "code",
   "execution_count": 12,
   "metadata": {},
   "outputs": [
    {
     "data": {
      "text/plain": [
       "((872, 6), (110, 6), (110, 6), (872, 1), (110, 1), (110, 1))"
      ]
     },
     "execution_count": 12,
     "metadata": {},
     "output_type": "execute_result"
    }
   ],
   "source": [
    "# Verifico dimensiones\n",
    "X_train.shape, X_val.shape, X_test.shape, y_train.shape, y_val.shape, y_test.shape"
   ]
  },
  {
   "cell_type": "markdown",
   "metadata": {},
   "source": [
    "#### Paso 3: Scaling"
   ]
  },
  {
   "cell_type": "code",
   "execution_count": 13,
   "metadata": {},
   "outputs": [],
   "source": [
    "scaler = MinMaxScaler()\n",
    "X_train_sc = scaler.fit_transform(X_train)\n",
    "X_val_sc = scaler.transform(X_val)\n",
    "X_test_sc = scaler.transform(X_test)\n",
    "\n",
    "y_train_sc = scaler.fit_transform(y_train)\n",
    "y_val_sc = scaler.transform(y_val)\n",
    "y_test_sc = scaler.transform(y_test)"
   ]
  },
  {
   "cell_type": "markdown",
   "metadata": {},
   "source": [
    "#### Paso 4: Dataloaders"
   ]
  },
  {
   "cell_type": "code",
   "execution_count": 14,
   "metadata": {},
   "outputs": [],
   "source": [
    "# Creo Dataloaders\n",
    "from torch.utils.data import TensorDataset, DataLoader\n",
    "\n",
    "batch_size = 64\n",
    "\n",
    "train_features = torch.Tensor(X_train_sc)\n",
    "train_targets = torch.Tensor(y_train_sc)\n",
    "val_features = torch.Tensor(X_val_sc)\n",
    "val_targets = torch.Tensor(y_val_sc)\n",
    "test_features = torch.Tensor(X_test_sc)\n",
    "test_targets = torch.Tensor(y_test_sc)\n",
    "\n",
    "train = TensorDataset(train_features, train_targets)\n",
    "val = TensorDataset(val_features, val_targets)\n",
    "test = TensorDataset(test_features, test_targets)\n",
    "\n",
    "train_loader = DataLoader(train, batch_size=batch_size, shuffle=False, drop_last=True)\n",
    "val_loader = DataLoader(val, batch_size=batch_size, shuffle=False, drop_last=True)\n",
    "test_loader = DataLoader(test, batch_size=1, shuffle=False, drop_last=True)"
   ]
  },
  {
   "cell_type": "markdown",
   "metadata": {},
   "source": [
    "#### Paso 5: Training"
   ]
  },
  {
   "cell_type": "code",
   "execution_count": 15,
   "metadata": {},
   "outputs": [
    {
     "name": "stdout",
     "output_type": "stream",
     "text": [
      "[1/100] Training loss: 0.4620\t Validation loss: 0.4153\n",
      "[2/100] Training loss: 0.3313\t Validation loss: 0.2511\n",
      "[3/100] Training loss: 0.1478\t Validation loss: 0.0790\n",
      "[4/100] Training loss: 0.0874\t Validation loss: 0.0762\n",
      "[5/100] Training loss: 0.0819\t Validation loss: 0.0778\n",
      "[6/100] Training loss: 0.0756\t Validation loss: 0.0706\n",
      "[7/100] Training loss: 0.0745\t Validation loss: 0.0679\n",
      "[8/100] Training loss: 0.0696\t Validation loss: 0.0647\n",
      "[9/100] Training loss: 0.0665\t Validation loss: 0.0609\n",
      "[10/100] Training loss: 0.0640\t Validation loss: 0.0571\n",
      "[11/100] Training loss: 0.0613\t Validation loss: 0.0532\n",
      "[12/100] Training loss: 0.0571\t Validation loss: 0.0500\n",
      "[13/100] Training loss: 0.0550\t Validation loss: 0.0478\n",
      "[14/100] Training loss: 0.0530\t Validation loss: 0.0469\n",
      "[15/100] Training loss: 0.0529\t Validation loss: 0.0466\n",
      "[16/100] Training loss: 0.0534\t Validation loss: 0.0465\n",
      "[17/100] Training loss: 0.0534\t Validation loss: 0.0467\n",
      "[18/100] Training loss: 0.0526\t Validation loss: 0.0473\n",
      "[19/100] Training loss: 0.0534\t Validation loss: 0.0469\n",
      "[20/100] Training loss: 0.0535\t Validation loss: 0.0468\n",
      "[21/100] Training loss: 0.0536\t Validation loss: 0.0472\n",
      "[22/100] Training loss: 0.0517\t Validation loss: 0.0473\n",
      "[23/100] Training loss: 0.0522\t Validation loss: 0.0470\n",
      "[24/100] Training loss: 0.0514\t Validation loss: 0.0474\n",
      "[25/100] Training loss: 0.0516\t Validation loss: 0.0468\n",
      "[26/100] Training loss: 0.0504\t Validation loss: 0.0473\n",
      "[27/100] Training loss: 0.0515\t Validation loss: 0.0468\n",
      "[28/100] Training loss: 0.0511\t Validation loss: 0.0468\n",
      "[29/100] Training loss: 0.0516\t Validation loss: 0.0466\n",
      "[30/100] Training loss: 0.0525\t Validation loss: 0.0467\n",
      "[31/100] Training loss: 0.0519\t Validation loss: 0.0463\n",
      "[32/100] Training loss: 0.0511\t Validation loss: 0.0465\n",
      "[33/100] Training loss: 0.0506\t Validation loss: 0.0465\n",
      "[34/100] Training loss: 0.0497\t Validation loss: 0.0462\n",
      "[35/100] Training loss: 0.0493\t Validation loss: 0.0465\n",
      "[36/100] Training loss: 0.0501\t Validation loss: 0.0459\n",
      "[37/100] Training loss: 0.0504\t Validation loss: 0.0456\n",
      "[38/100] Training loss: 0.0504\t Validation loss: 0.0461\n",
      "[39/100] Training loss: 0.0499\t Validation loss: 0.0455\n",
      "[40/100] Training loss: 0.0504\t Validation loss: 0.0458\n",
      "[41/100] Training loss: 0.0505\t Validation loss: 0.0453\n",
      "[42/100] Training loss: 0.0493\t Validation loss: 0.0453\n",
      "[43/100] Training loss: 0.0500\t Validation loss: 0.0448\n",
      "[44/100] Training loss: 0.0500\t Validation loss: 0.0447\n",
      "[45/100] Training loss: 0.0500\t Validation loss: 0.0446\n",
      "[46/100] Training loss: 0.0494\t Validation loss: 0.0445\n",
      "[47/100] Training loss: 0.0492\t Validation loss: 0.0446\n",
      "[48/100] Training loss: 0.0486\t Validation loss: 0.0443\n",
      "[49/100] Training loss: 0.0484\t Validation loss: 0.0439\n",
      "[50/100] Training loss: 0.0492\t Validation loss: 0.0438\n",
      "[51/100] Training loss: 0.0478\t Validation loss: 0.0435\n",
      "[52/100] Training loss: 0.0488\t Validation loss: 0.0434\n",
      "[53/100] Training loss: 0.0480\t Validation loss: 0.0431\n",
      "[54/100] Training loss: 0.0476\t Validation loss: 0.0432\n",
      "[55/100] Training loss: 0.0478\t Validation loss: 0.0428\n",
      "[56/100] Training loss: 0.0473\t Validation loss: 0.0422\n",
      "[57/100] Training loss: 0.0477\t Validation loss: 0.0421\n",
      "[58/100] Training loss: 0.0469\t Validation loss: 0.0423\n",
      "[59/100] Training loss: 0.0470\t Validation loss: 0.0419\n",
      "[60/100] Training loss: 0.0472\t Validation loss: 0.0418\n",
      "[61/100] Training loss: 0.0474\t Validation loss: 0.0409\n",
      "[62/100] Training loss: 0.0470\t Validation loss: 0.0409\n",
      "[63/100] Training loss: 0.0472\t Validation loss: 0.0405\n",
      "[64/100] Training loss: 0.0464\t Validation loss: 0.0406\n",
      "[65/100] Training loss: 0.0471\t Validation loss: 0.0404\n",
      "[66/100] Training loss: 0.0465\t Validation loss: 0.0397\n",
      "[67/100] Training loss: 0.0457\t Validation loss: 0.0398\n",
      "[68/100] Training loss: 0.0465\t Validation loss: 0.0392\n",
      "[69/100] Training loss: 0.0456\t Validation loss: 0.0391\n",
      "[70/100] Training loss: 0.0454\t Validation loss: 0.0386\n",
      "[71/100] Training loss: 0.0454\t Validation loss: 0.0384\n",
      "[72/100] Training loss: 0.0457\t Validation loss: 0.0381\n",
      "[73/100] Training loss: 0.0449\t Validation loss: 0.0377\n",
      "[74/100] Training loss: 0.0445\t Validation loss: 0.0371\n",
      "[75/100] Training loss: 0.0444\t Validation loss: 0.0371\n",
      "[76/100] Training loss: 0.0444\t Validation loss: 0.0362\n",
      "[77/100] Training loss: 0.0436\t Validation loss: 0.0359\n",
      "[78/100] Training loss: 0.0445\t Validation loss: 0.0352\n",
      "[79/100] Training loss: 0.0441\t Validation loss: 0.0353\n",
      "[80/100] Training loss: 0.0437\t Validation loss: 0.0347\n",
      "[81/100] Training loss: 0.0446\t Validation loss: 0.0341\n",
      "[82/100] Training loss: 0.0435\t Validation loss: 0.0346\n",
      "[83/100] Training loss: 0.0434\t Validation loss: 0.0333\n",
      "[84/100] Training loss: 0.0432\t Validation loss: 0.0333\n",
      "[85/100] Training loss: 0.0437\t Validation loss: 0.0331\n",
      "[86/100] Training loss: 0.0433\t Validation loss: 0.0331\n",
      "[87/100] Training loss: 0.0438\t Validation loss: 0.0324\n",
      "[88/100] Training loss: 0.0440\t Validation loss: 0.0324\n",
      "[89/100] Training loss: 0.0429\t Validation loss: 0.0314\n",
      "[90/100] Training loss: 0.0420\t Validation loss: 0.0309\n",
      "[91/100] Training loss: 0.0431\t Validation loss: 0.0307\n",
      "[92/100] Training loss: 0.0421\t Validation loss: 0.0309\n",
      "[93/100] Training loss: 0.0427\t Validation loss: 0.0305\n",
      "[94/100] Training loss: 0.0431\t Validation loss: 0.0304\n",
      "[95/100] Training loss: 0.0424\t Validation loss: 0.0305\n",
      "[96/100] Training loss: 0.0426\t Validation loss: 0.0300\n",
      "[97/100] Training loss: 0.0420\t Validation loss: 0.0298\n",
      "[98/100] Training loss: 0.0428\t Validation loss: 0.0293\n",
      "[99/100] Training loss: 0.0422\t Validation loss: 0.0298\n",
      "[100/100] Training loss: 0.0424\t Validation loss: 0.0292\n"
     ]
    },
    {
     "data": {
      "image/png": "[encoded data removed]",
      "text/plain": [
       "<Figure size 432x288 with 1 Axes>"
      ]
     },
     "metadata": {
      "needs_background": "light"
     },
     "output_type": "display_data"
    }
   ],
   "source": [
    "# Parametros del modelo\n",
    "input_dim = len(X_train.columns)\n",
    "output_dim = 1\n",
    "hidden_dim = 64\n",
    "layer_dim = 3\n",
    "batch_size = 64\n",
    "dropout = 0.2\n",
    "n_epochs = 100\n",
    "learning_rate = 1e-3\n",
    "weight_decay = 1e-6\n",
    "\n",
    "# Defino Modelo\n",
    "model = LSTMModel(input_dim, hidden_dim, layer_dim, output_dim, dropout)\n",
    "\n",
    "# Defino Loss function\n",
    "loss_fn = torch.nn.MSELoss(reduction=\"mean\")\n",
    "\n",
    "# Defino Optimizador\n",
    "optimizer = optim.Adam(model.parameters(), lr=learning_rate, weight_decay=weight_decay)\n",
    "\n",
    "# Instancio clase para realizar el entrenamiento y evaluación\n",
    "opt = Optimization(model=model, loss_fn=loss_fn, optimizer=optimizer)\n",
    "opt.train(train_loader, val_loader, batch_size=batch_size, n_epochs=n_epochs, n_features=input_dim)\n",
    "opt.plot_losses()\n",
    "\n"
   ]
  },
  {
   "cell_type": "markdown",
   "metadata": {},
   "source": [
    "#### Paso 6: Evaluación del modelo con el dataset de Test (110 muestras finales del dataset)"
   ]
  },
  {
   "cell_type": "code",
   "execution_count": 16,
   "metadata": {},
   "outputs": [],
   "source": [
    "prediccion, original = opt.evaluate(test_loader, batch_size=1, n_features=input_dim)"
   ]
  },
  {
   "cell_type": "code",
   "execution_count": 21,
   "metadata": {},
   "outputs": [
    {
     "data": {
      "text/html": [
       "<div>\n",
       "<style scoped>\n",
       "    .dataframe tbody tr th:only-of-type {\n",
       "        vertical-align: middle;\n",
       "    }\n",
       "\n",
       "    .dataframe tbody tr th {\n",
       "        vertical-align: top;\n",
       "    }\n",
       "\n",
       "    .dataframe thead th {\n",
       "        text-align: right;\n",
       "    }\n",
       "</style>\n",
       "<table border=\"1\" class=\"dataframe\">\n",
       "  <thead>\n",
       "    <tr style=\"text-align: right;\">\n",
       "      <th></th>\n",
       "      <th>original</th>\n",
       "      <th>prediccion</th>\n",
       "    </tr>\n",
       "  </thead>\n",
       "  <tbody>\n",
       "    <tr>\n",
       "      <th>982</th>\n",
       "      <td>1.334808e+06</td>\n",
       "      <td>1.118193e+06</td>\n",
       "    </tr>\n",
       "    <tr>\n",
       "      <th>983</th>\n",
       "      <td>5.552040e+05</td>\n",
       "      <td>6.960098e+05</td>\n",
       "    </tr>\n",
       "    <tr>\n",
       "      <th>984</th>\n",
       "      <td>2.900580e+05</td>\n",
       "      <td>5.055088e+05</td>\n",
       "    </tr>\n",
       "    <tr>\n",
       "      <th>985</th>\n",
       "      <td>1.281970e+06</td>\n",
       "      <td>9.850182e+05</td>\n",
       "    </tr>\n",
       "    <tr>\n",
       "      <th>986</th>\n",
       "      <td>1.292380e+06</td>\n",
       "      <td>1.177548e+06</td>\n",
       "    </tr>\n",
       "    <tr>\n",
       "      <th>...</th>\n",
       "      <td>...</td>\n",
       "      <td>...</td>\n",
       "    </tr>\n",
       "    <tr>\n",
       "      <th>1087</th>\n",
       "      <td>1.080310e+06</td>\n",
       "      <td>1.002376e+06</td>\n",
       "    </tr>\n",
       "    <tr>\n",
       "      <th>1088</th>\n",
       "      <td>4.080940e+05</td>\n",
       "      <td>3.739351e+05</td>\n",
       "    </tr>\n",
       "    <tr>\n",
       "      <th>1089</th>\n",
       "      <td>2.130810e+05</td>\n",
       "      <td>1.987534e+05</td>\n",
       "    </tr>\n",
       "    <tr>\n",
       "      <th>1090</th>\n",
       "      <td>8.650960e+05</td>\n",
       "      <td>8.630298e+05</td>\n",
       "    </tr>\n",
       "    <tr>\n",
       "      <th>1091</th>\n",
       "      <td>3.076150e+05</td>\n",
       "      <td>1.130725e+06</td>\n",
       "    </tr>\n",
       "  </tbody>\n",
       "</table>\n",
       "<p>110 rows × 2 columns</p>\n",
       "</div>"
      ],
      "text/plain": [
       "          original    prediccion\n",
       "982   1.334808e+06  1.118193e+06\n",
       "983   5.552040e+05  6.960098e+05\n",
       "984   2.900580e+05  5.055088e+05\n",
       "985   1.281970e+06  9.850182e+05\n",
       "986   1.292380e+06  1.177548e+06\n",
       "...            ...           ...\n",
       "1087  1.080310e+06  1.002376e+06\n",
       "1088  4.080940e+05  3.739351e+05\n",
       "1089  2.130810e+05  1.987534e+05\n",
       "1090  8.650960e+05  8.630298e+05\n",
       "1091  3.076150e+05  1.130725e+06\n",
       "\n",
       "[110 rows x 2 columns]"
      ]
     },
     "execution_count": 21,
     "metadata": {},
     "output_type": "execute_result"
    }
   ],
   "source": [
    "# Funciones para re-escalar las predicciones (porque los datos estaban transformados con un scaler)\n",
    "def inverse_transform(scaler, df, columns):\n",
    "    for col in columns:\n",
    "        df[col] = scaler.inverse_transform(df[col])\n",
    "    return df\n",
    "\n",
    "\n",
    "def format_predictions(predictions, values, df_test, scaler):\n",
    "    vals = np.concatenate(values, axis=0).ravel()\n",
    "    preds = np.concatenate(predictions, axis=0).ravel()\n",
    "    df_result = pd.DataFrame(data={\"original\": vals, \"prediccion\": preds}, index=df_test.head(len(vals)).index)\n",
    "    df_result = df_result.sort_index()\n",
    "    df_result = inverse_transform(scaler, df_result, [[\"original\", \"prediccion\"]])\n",
    "    return df_result\n",
    "\n",
    "\n",
    "df_result = format_predictions(prediccion, original, X_test, scaler)\n",
    "df_result"
   ]
  },
  {
   "cell_type": "code",
   "execution_count": 22,
   "metadata": {},
   "outputs": [
    {
     "data": {
      "text/html": [
       "<div>\n",
       "<style scoped>\n",
       "    .dataframe tbody tr th:only-of-type {\n",
       "        vertical-align: middle;\n",
       "    }\n",
       "\n",
       "    .dataframe tbody tr th {\n",
       "        vertical-align: top;\n",
       "    }\n",
       "\n",
       "    .dataframe thead th {\n",
       "        text-align: right;\n",
       "    }\n",
       "</style>\n",
       "<table border=\"1\" class=\"dataframe\">\n",
       "  <thead>\n",
       "    <tr style=\"text-align: right;\">\n",
       "      <th></th>\n",
       "      <th>original</th>\n",
       "      <th>prediccion</th>\n",
       "    </tr>\n",
       "    <tr>\n",
       "      <th>fecha</th>\n",
       "      <th></th>\n",
       "      <th></th>\n",
       "    </tr>\n",
       "  </thead>\n",
       "  <tbody>\n",
       "    <tr>\n",
       "      <th>2019-09-13</th>\n",
       "      <td>1334808.0</td>\n",
       "      <td>1118192.750</td>\n",
       "    </tr>\n",
       "    <tr>\n",
       "      <th>2019-09-14</th>\n",
       "      <td>555204.0</td>\n",
       "      <td>696009.750</td>\n",
       "    </tr>\n",
       "    <tr>\n",
       "      <th>2019-09-15</th>\n",
       "      <td>290058.0</td>\n",
       "      <td>505508.750</td>\n",
       "    </tr>\n",
       "    <tr>\n",
       "      <th>2019-09-16</th>\n",
       "      <td>1281970.0</td>\n",
       "      <td>985018.250</td>\n",
       "    </tr>\n",
       "    <tr>\n",
       "      <th>2019-09-17</th>\n",
       "      <td>1292380.0</td>\n",
       "      <td>1177547.625</td>\n",
       "    </tr>\n",
       "  </tbody>\n",
       "</table>\n",
       "</div>"
      ],
      "text/plain": [
       "             original   prediccion\n",
       "fecha                             \n",
       "2019-09-13  1334808.0  1118192.750\n",
       "2019-09-14   555204.0   696009.750\n",
       "2019-09-15   290058.0   505508.750\n",
       "2019-09-16  1281970.0   985018.250\n",
       "2019-09-17  1292380.0  1177547.625"
      ]
     },
     "execution_count": 22,
     "metadata": {},
     "output_type": "execute_result"
    }
   ],
   "source": [
    "# Preparo resultados para graficar\n",
    "df_fecha = molinetes.copy()\n",
    "df_fecha = df_fecha.reset_index()\n",
    "df_result['fecha'] = df_fecha['fecha'].astype('datetime64')\n",
    "df_result = df_result.set_index('fecha')\n",
    "\n",
    "df_result.head()"
   ]
  },
  {
   "cell_type": "code",
   "execution_count": 24,
   "metadata": {},
   "outputs": [
    {
     "data": {
      "text/plain": [
       "Text(0.5, 1.0, 'Predicción con el dataset de Test')"
      ]
     },
     "execution_count": 24,
     "metadata": {},
     "output_type": "execute_result"
    },
    {
     "data": {
      "image/png": "[encoded data removed]",
      "text/plain": [
       "<Figure size 720x360 with 1 Axes>"
      ]
     },
     "metadata": {
      "needs_background": "light"
     },
     "output_type": "display_data"
    }
   ],
   "source": [
    "# Plot\n",
    "df_result.plot(figsize=[10,5])\n",
    "plt.title(\"Predicción con el dataset de Test\")\n"
   ]
  }
 ],
 "metadata": {
  "kernelspec": {
   "display_name": "Python 3.9.12 ('ari-env')",
   "language": "python",
   "name": "python3"
  },
  "language_info": {
   "codemirror_mode": {
    "name": "ipython",
    "version": 3
   },
   "file_extension": ".py",
   "mimetype": "text/x-python",
   "name": "python",
   "nbconvert_exporter": "python",
   "pygments_lexer": "ipython3",
   "version": "3.9.12"
  },
  "orig_nbformat": 4,
  "vscode": {
   "interpreter": {
    "hash": "a25e91bd5a7c6b895cbcd0e53a12fc643be6b7302a2f32a7a65958bddcd535a8"
   }
  }
 },
 "nbformat": 4,
 "nbformat_minor": 2
}
